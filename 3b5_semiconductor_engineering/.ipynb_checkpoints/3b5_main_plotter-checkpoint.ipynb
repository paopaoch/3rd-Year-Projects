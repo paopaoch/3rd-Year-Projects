{
 "cells": [
  {
   "cell_type": "code",
   "execution_count": 1,
   "id": "eca1fb31",
   "metadata": {},
   "outputs": [],
   "source": [
    "import pandas as pd\n",
    "import matplotlib.pyplot as plt\n",
    "import numpy as np\n",
    "plt.rcParams['text.usetex'] = True\n",
    "SAVE = True"
   ]
  },
  {
   "cell_type": "code",
   "execution_count": 2,
   "id": "a036f69b",
   "metadata": {},
   "outputs": [],
   "source": [
    "# Function to plot the data, label, draw line of bf, and calculate the Standard Error Mean\n",
    "\n",
    "def best_fit(array_x, array_y):\n",
    "    pos_x = np.array([x for x in array_x if x > 0 ])\n",
    "    pos_y = array_y[-len(pos_x):]\n",
    "    return np.polyfit(pos_x, pos_y, 1)\n",
    "\n",
    "def ultimate_plot(x_values, y_values, x_label, y_label, title):\n",
    "    m, c = best_fit(x_values, y_values)\n",
    "    y_line = x_values * m + c\n",
    "\n",
    "    SEM = np.std(y_values, ddof=1) / np.sqrt(np.size(y_values))\n",
    "    plt.errorbar(x_values, y_values,\n",
    "            yerr=SEM,\n",
    "            fmt='o')\n",
    "    plt.plot(x_values, y_line)\n",
    "    plt.xlabel(x_label, fontsize=14)\n",
    "    plt.ylabel(y_label, fontsize=14)\n",
    "    plt.title(title, fontsize=16)\n",
    "    \n",
    "    \n",
    "    if SAVE:\n",
    "        plt.savefig(f\"./{title}.png\")\n",
    "        \n",
    "    plt.show()\n",
    "    return m, c"
   ]
  },
  {
   "cell_type": "markdown",
   "id": "2e6826b1",
   "metadata": {},
   "source": [
    "## Experiment 1"
   ]
  },
  {
   "cell_type": "code",
   "execution_count": 3,
   "id": "6ea2783a",
   "metadata": {},
   "outputs": [],
   "source": [
    "df = pd.read_csv(\"./experiment_1_data.txt\", sep=\"|\", header=None)\n",
    "df = df.rename(columns={0: \"Suggested Vrev\", 1: \"Measured Vrev\", 2: \"[V-1/2]\", 3: \"fr\", 4: \"C0\"})"
   ]
  },
  {
   "cell_type": "code",
   "execution_count": 4,
   "id": "a628b1b3",
   "metadata": {},
   "outputs": [
    {
     "data": {
      "text/html": [
       "<div>\n",
       "<style scoped>\n",
       "    .dataframe tbody tr th:only-of-type {\n",
       "        vertical-align: middle;\n",
       "    }\n",
       "\n",
       "    .dataframe tbody tr th {\n",
       "        vertical-align: top;\n",
       "    }\n",
       "\n",
       "    .dataframe thead th {\n",
       "        text-align: right;\n",
       "    }\n",
       "</style>\n",
       "<table border=\"1\" class=\"dataframe\">\n",
       "  <thead>\n",
       "    <tr style=\"text-align: right;\">\n",
       "      <th></th>\n",
       "      <th>Suggested Vrev</th>\n",
       "      <th>Measured Vrev</th>\n",
       "      <th>[V-1/2]</th>\n",
       "      <th>fr</th>\n",
       "      <th>C0</th>\n",
       "    </tr>\n",
       "  </thead>\n",
       "  <tbody>\n",
       "    <tr>\n",
       "      <th>0</th>\n",
       "      <td>–12.0</td>\n",
       "      <td>-12.09</td>\n",
       "      <td>0.281830</td>\n",
       "      <td>1523.701</td>\n",
       "      <td>3.775627</td>\n",
       "    </tr>\n",
       "    <tr>\n",
       "      <th>1</th>\n",
       "      <td>–8.0</td>\n",
       "      <td>-8.03</td>\n",
       "      <td>0.342393</td>\n",
       "      <td>1519.112</td>\n",
       "      <td>4.093934</td>\n",
       "    </tr>\n",
       "    <tr>\n",
       "      <th>2</th>\n",
       "      <td>–5.0</td>\n",
       "      <td>-5.05</td>\n",
       "      <td>0.424476</td>\n",
       "      <td>1512.868</td>\n",
       "      <td>4.531697</td>\n",
       "    </tr>\n",
       "    <tr>\n",
       "      <th>3</th>\n",
       "      <td>–4.0</td>\n",
       "      <td>-4.02</td>\n",
       "      <td>0.470360</td>\n",
       "      <td>1509.234</td>\n",
       "      <td>4.788980</td>\n",
       "    </tr>\n",
       "    <tr>\n",
       "      <th>4</th>\n",
       "      <td>–3.0</td>\n",
       "      <td>-3.01</td>\n",
       "      <td>0.533761</td>\n",
       "      <td>1503.913</td>\n",
       "      <td>5.169070</td>\n",
       "    </tr>\n",
       "    <tr>\n",
       "      <th>5</th>\n",
       "      <td>-2</td>\n",
       "      <td>-1.99</td>\n",
       "      <td>0.633724</td>\n",
       "      <td>1494.520</td>\n",
       "      <td>5.849967</td>\n",
       "    </tr>\n",
       "    <tr>\n",
       "      <th>6</th>\n",
       "      <td>-1.5</td>\n",
       "      <td>-1.53</td>\n",
       "      <td>0.701862</td>\n",
       "      <td>1487.538</td>\n",
       "      <td>6.364470</td>\n",
       "    </tr>\n",
       "    <tr>\n",
       "      <th>7</th>\n",
       "      <td>–1.0</td>\n",
       "      <td>-1.02</td>\n",
       "      <td>0.811107</td>\n",
       "      <td>1475.603</td>\n",
       "      <td>7.260931</td>\n",
       "    </tr>\n",
       "  </tbody>\n",
       "</table>\n",
       "</div>"
      ],
      "text/plain": [
       "  Suggested Vrev  Measured Vrev   [V-1/2]        fr        C0\n",
       "0          –12.0         -12.09  0.281830  1523.701  3.775627\n",
       "1           –8.0          -8.03  0.342393  1519.112  4.093934\n",
       "2           –5.0          -5.05  0.424476  1512.868  4.531697\n",
       "3           –4.0          -4.02  0.470360  1509.234  4.788980\n",
       "4           –3.0          -3.01  0.533761  1503.913  5.169070\n",
       "5             -2          -1.99  0.633724  1494.520  5.849967\n",
       "6           -1.5          -1.53  0.701862  1487.538  6.364470\n",
       "7           –1.0          -1.02  0.811107  1475.603  7.260931"
      ]
     },
     "execution_count": 4,
     "metadata": {},
     "output_type": "execute_result"
    }
   ],
   "source": [
    "df"
   ]
  },
  {
   "cell_type": "code",
   "execution_count": 5,
   "id": "de016f57",
   "metadata": {},
   "outputs": [],
   "source": [
    "v12 = df[\"[V-1/2]\"].to_numpy()\n",
    "cr = df[\"C0\"].to_numpy()"
   ]
  },
  {
   "cell_type": "code",
   "execution_count": 6,
   "id": "558287a4",
   "metadata": {
    "scrolled": false
   },
   "outputs": [
    {
     "data": {
      "image/png": "[encoded data removed]",
      "text/plain": [
       "<Figure size 432x288 with 1 Axes>"
      ]
     },
     "metadata": {
      "needs_background": "light"
     },
     "output_type": "display_data"
    },
    {
     "data": {
      "text/plain": [
       "(6.5219845838132, 1.8056884588018587)"
      ]
     },
     "execution_count": 6,
     "metadata": {},
     "output_type": "execute_result"
    }
   ],
   "source": [
    "ultimate_plot(v12, cr, r\"$(V_0-V)^{-1/2} \\ \\ [V^{-1/2}]$\", r\"$C_{SBD} [pF]$\", \"CV measurements SBD\")"
   ]
  },
  {
   "cell_type": "markdown",
   "id": "9dec2227",
   "metadata": {},
   "source": [
    "## Experiment 2a"
   ]
  },
  {
   "cell_type": "code",
   "execution_count": 7,
   "id": "aa3bff3e",
   "metadata": {},
   "outputs": [],
   "source": [
    "df = pd.read_csv(\"./experiment_2a_data.txt\", sep=\"|\", header=None)\n",
    "df = df.rename(columns={0: \"Suggested Vrev\", 1: \"Actual SBD Vrev\", 2: \"Measured SBD Vrev\", 3: \"Measured SBD Irev\", 4: \"Actual PN Vrev\", 5: \"Measured PN Vrev\", 6: \"Measured PN Irev\",})\n",
    "df[\"Actual SBD Vrev\"] = -df[\"Actual SBD Vrev\"]\n",
    "df[\"Actual PN Vrev\"] = -df[\"Actual PN Vrev\"]\n",
    "df[\"Suggested Vrev\"] = -df[\"Suggested Vrev\"]"
   ]
  },
  {
   "cell_type": "code",
   "execution_count": 8,
   "id": "f1f915c3",
   "metadata": {},
   "outputs": [
    {
     "data": {
      "text/html": [
       "<div>\n",
       "<style scoped>\n",
       "    .dataframe tbody tr th:only-of-type {\n",
       "        vertical-align: middle;\n",
       "    }\n",
       "\n",
       "    .dataframe tbody tr th {\n",
       "        vertical-align: top;\n",
       "    }\n",
       "\n",
       "    .dataframe thead th {\n",
       "        text-align: right;\n",
       "    }\n",
       "</style>\n",
       "<table border=\"1\" class=\"dataframe\">\n",
       "  <thead>\n",
       "    <tr style=\"text-align: right;\">\n",
       "      <th></th>\n",
       "      <th>Suggested Vrev</th>\n",
       "      <th>Actual SBD Vrev</th>\n",
       "      <th>Measured SBD Vrev</th>\n",
       "      <th>Measured SBD Irev</th>\n",
       "      <th>Actual PN Vrev</th>\n",
       "      <th>Measured PN Vrev</th>\n",
       "      <th>Measured PN Irev</th>\n",
       "    </tr>\n",
       "  </thead>\n",
       "  <tbody>\n",
       "    <tr>\n",
       "      <th>0</th>\n",
       "      <td>0.25</td>\n",
       "      <td>0.24</td>\n",
       "      <td>32.2</td>\n",
       "      <td>0.322</td>\n",
       "      <td>0.20</td>\n",
       "      <td>0.3</td>\n",
       "      <td>0.003</td>\n",
       "    </tr>\n",
       "    <tr>\n",
       "      <th>1</th>\n",
       "      <td>0.50</td>\n",
       "      <td>0.55</td>\n",
       "      <td>35.0</td>\n",
       "      <td>0.350</td>\n",
       "      <td>0.48</td>\n",
       "      <td>0.4</td>\n",
       "      <td>0.004</td>\n",
       "    </tr>\n",
       "    <tr>\n",
       "      <th>2</th>\n",
       "      <td>1.00</td>\n",
       "      <td>1.00</td>\n",
       "      <td>37.9</td>\n",
       "      <td>0.379</td>\n",
       "      <td>1.01</td>\n",
       "      <td>0.4</td>\n",
       "      <td>0.004</td>\n",
       "    </tr>\n",
       "    <tr>\n",
       "      <th>3</th>\n",
       "      <td>2.00</td>\n",
       "      <td>2.05</td>\n",
       "      <td>42.9</td>\n",
       "      <td>0.429</td>\n",
       "      <td>2.01</td>\n",
       "      <td>0.4</td>\n",
       "      <td>0.004</td>\n",
       "    </tr>\n",
       "    <tr>\n",
       "      <th>4</th>\n",
       "      <td>4.00</td>\n",
       "      <td>4.00</td>\n",
       "      <td>50.6</td>\n",
       "      <td>0.506</td>\n",
       "      <td>3.97</td>\n",
       "      <td>0.5</td>\n",
       "      <td>0.005</td>\n",
       "    </tr>\n",
       "    <tr>\n",
       "      <th>5</th>\n",
       "      <td>6.00</td>\n",
       "      <td>6.00</td>\n",
       "      <td>57.8</td>\n",
       "      <td>0.578</td>\n",
       "      <td>6.04</td>\n",
       "      <td>0.5</td>\n",
       "      <td>0.005</td>\n",
       "    </tr>\n",
       "    <tr>\n",
       "      <th>6</th>\n",
       "      <td>8.00</td>\n",
       "      <td>7.98</td>\n",
       "      <td>63.4</td>\n",
       "      <td>0.634</td>\n",
       "      <td>8.00</td>\n",
       "      <td>0.6</td>\n",
       "      <td>0.006</td>\n",
       "    </tr>\n",
       "    <tr>\n",
       "      <th>7</th>\n",
       "      <td>10.00</td>\n",
       "      <td>9.98</td>\n",
       "      <td>69.4</td>\n",
       "      <td>0.694</td>\n",
       "      <td>10.04</td>\n",
       "      <td>0.6</td>\n",
       "      <td>0.006</td>\n",
       "    </tr>\n",
       "    <tr>\n",
       "      <th>8</th>\n",
       "      <td>12.00</td>\n",
       "      <td>12.01</td>\n",
       "      <td>75.9</td>\n",
       "      <td>0.759</td>\n",
       "      <td>11.98</td>\n",
       "      <td>0.6</td>\n",
       "      <td>0.006</td>\n",
       "    </tr>\n",
       "  </tbody>\n",
       "</table>\n",
       "</div>"
      ],
      "text/plain": [
       "   Suggested Vrev  Actual SBD Vrev  Measured SBD Vrev  Measured SBD Irev  \\\n",
       "0            0.25             0.24               32.2              0.322   \n",
       "1            0.50             0.55               35.0              0.350   \n",
       "2            1.00             1.00               37.9              0.379   \n",
       "3            2.00             2.05               42.9              0.429   \n",
       "4            4.00             4.00               50.6              0.506   \n",
       "5            6.00             6.00               57.8              0.578   \n",
       "6            8.00             7.98               63.4              0.634   \n",
       "7           10.00             9.98               69.4              0.694   \n",
       "8           12.00            12.01               75.9              0.759   \n",
       "\n",
       "   Actual PN Vrev  Measured PN Vrev  Measured PN Irev  \n",
       "0            0.20               0.3             0.003  \n",
       "1            0.48               0.4             0.004  \n",
       "2            1.01               0.4             0.004  \n",
       "3            2.01               0.4             0.004  \n",
       "4            3.97               0.5             0.005  \n",
       "5            6.04               0.5             0.005  \n",
       "6            8.00               0.6             0.006  \n",
       "7           10.04               0.6             0.006  \n",
       "8           11.98               0.6             0.006  "
      ]
     },
     "execution_count": 8,
     "metadata": {},
     "output_type": "execute_result"
    }
   ],
   "source": [
    "df"
   ]
  },
  {
   "cell_type": "code",
   "execution_count": 9,
   "id": "190a83c7",
   "metadata": {},
   "outputs": [],
   "source": [
    "Vrev = df[\"Actual SBD Vrev\"].to_numpy()\n",
    "Irev = df[\"Measured SBD Irev\"].to_numpy()"
   ]
  },
  {
   "cell_type": "code",
   "execution_count": 10,
   "id": "b778548a",
   "metadata": {},
   "outputs": [
    {
     "data": {
      "image/png": "[encoded data removed]",
      "text/plain": [
       "<Figure size 432x288 with 1 Axes>"
      ]
     },
     "metadata": {
      "needs_background": "light"
     },
     "output_type": "display_data"
    }
   ],
   "source": [
    "m_sbd, c_sbd = ultimate_plot(Vrev, Irev, r\"$|V_{Reverse}| \\ \\ [V]$\", r\"$|I_{rev}| \\ \\ [\\mu A]$\", \"I-V Measurements SBD\")"
   ]
  },
  {
   "cell_type": "code",
   "execution_count": 11,
   "id": "bb29c4b5",
   "metadata": {},
   "outputs": [
    {
     "data": {
      "text/plain": [
       "(0.03610198477000816, 0.34104133858066027)"
      ]
     },
     "execution_count": 11,
     "metadata": {},
     "output_type": "execute_result"
    }
   ],
   "source": [
    "m_sbd, c_sbd"
   ]
  },
  {
   "cell_type": "code",
   "execution_count": 12,
   "id": "0b3c93d8",
   "metadata": {},
   "outputs": [],
   "source": [
    "Vrev_pn = df[\"Actual PN Vrev\"].to_numpy()\n",
    "Irev_pn = df[\"Measured PN Irev\"].to_numpy()"
   ]
  },
  {
   "cell_type": "code",
   "execution_count": 13,
   "id": "29a70e19",
   "metadata": {},
   "outputs": [
    {
     "data": {
      "image/png": "[encoded data removed]",
      "text/plain": [
       "<Figure size 432x288 with 1 Axes>"
      ]
     },
     "metadata": {
      "needs_background": "light"
     },
     "output_type": "display_data"
    }
   ],
   "source": [
    "m_pn, c_pn = ultimate_plot(Vrev_pn, Irev_pn, r\"$|V_{Reverse}| \\ \\ [V]$\", r\"$|I_{rev}| \\ \\ [\\mu A]$\", \"I-V Measurements PN\")"
   ]
  },
  {
   "cell_type": "code",
   "execution_count": 14,
   "id": "7d72c34a",
   "metadata": {},
   "outputs": [],
   "source": [
    "x_values = df[\"Suggested Vrev\"].to_numpy()\n",
    "y_pn = m_pn * x_values + c_pn\n",
    "y_sbd = m_sbd * x_values + c_sbd"
   ]
  },
  {
   "cell_type": "code",
   "execution_count": 15,
   "id": "c8016921",
   "metadata": {},
   "outputs": [
    {
     "data": {
      "image/png": "[encoded data removed]",
      "text/plain": [
       "<Figure size 432x288 with 1 Axes>"
      ]
     },
     "metadata": {
      "needs_background": "light"
     },
     "output_type": "display_data"
    }
   ],
   "source": [
    "plt.plot(x_values, y_pn, label='PN Line')\n",
    "plt.plot(x_values, y_sbd, label='SBD Line')\n",
    "plt.xlabel(r\"$|V_{Reverse}| \\ \\ [V]$\", fontsize=14)\n",
    "plt.ylabel(r\"$|I_{rev}| \\ \\ [\\mu A]$\", fontsize=14)\n",
    "plt.title(\"I-V Line of Best Fit\", fontsize=16)\n",
    "plt.legend()\n",
    "plt.savefig(f\"./I-V Line of Best Fit.png\")\n",
    "plt.show()"
   ]
  },
  {
   "cell_type": "code",
   "execution_count": 16,
   "id": "cc650813",
   "metadata": {},
   "outputs": [
    {
     "data": {
      "image/png": "[encoded data removed]",
      "text/plain": [
       "<Figure size 432x288 with 1 Axes>"
      ]
     },
     "metadata": {
      "needs_background": "light"
     },
     "output_type": "display_data"
    }
   ],
   "source": [
    "Vrev = df[\"Actual SBD Vrev\"].to_numpy()[-5:]\n",
    "Irev = df[\"Measured SBD Irev\"].to_numpy()[-5:]\n",
    "r_leak, Is = ultimate_plot(Vrev, Irev, r\"$|V_{Reverse}| \\ \\ [V]$\", r\"$|I_{rev}| \\ \\ [\\mu A]$\", \"I-V Measurements SBD\")"
   ]
  },
  {
   "cell_type": "code",
   "execution_count": 17,
   "id": "2de618ef",
   "metadata": {},
   "outputs": [
    {
     "data": {
      "text/plain": [
       "(0.0311008401848767, 0.38557988356209577)"
      ]
     },
     "execution_count": 17,
     "metadata": {},
     "output_type": "execute_result"
    }
   ],
   "source": [
    "r_leak, Is"
   ]
  },
  {
   "cell_type": "code",
   "execution_count": 18,
   "id": "5357c4d8",
   "metadata": {},
   "outputs": [],
   "source": [
    "r_leak_pn, Is_pn = m_pn, c_pn"
   ]
  },
  {
   "cell_type": "markdown",
   "id": "957e0fb3",
   "metadata": {},
   "source": [
    "## Experiment 2b"
   ]
  },
  {
   "cell_type": "code",
   "execution_count": 19,
   "id": "fe51e3e0",
   "metadata": {},
   "outputs": [],
   "source": [
    "df = pd.read_csv(\"./experiment_2b_data.txt\", sep=\"|\", header=None)\n",
    "df = df.rename(columns={0: \"Suggested Current\", 1: \"SBD Current\", 2: \"SBD Voltage\", 3: \"PN Current\", 4: \"PN Voltage\"})"
   ]
  },
  {
   "cell_type": "code",
   "execution_count": 20,
   "id": "2512fc6d",
   "metadata": {},
   "outputs": [
    {
     "data": {
      "text/html": [
       "<div>\n",
       "<style scoped>\n",
       "    .dataframe tbody tr th:only-of-type {\n",
       "        vertical-align: middle;\n",
       "    }\n",
       "\n",
       "    .dataframe tbody tr th {\n",
       "        vertical-align: top;\n",
       "    }\n",
       "\n",
       "    .dataframe thead th {\n",
       "        text-align: right;\n",
       "    }\n",
       "</style>\n",
       "<table border=\"1\" class=\"dataframe\">\n",
       "  <thead>\n",
       "    <tr style=\"text-align: right;\">\n",
       "      <th></th>\n",
       "      <th>Suggested Current</th>\n",
       "      <th>SBD Current</th>\n",
       "      <th>SBD Voltage</th>\n",
       "      <th>PN Current</th>\n",
       "      <th>PN Voltage</th>\n",
       "    </tr>\n",
       "  </thead>\n",
       "  <tbody>\n",
       "    <tr>\n",
       "      <th>0</th>\n",
       "      <td>5</td>\n",
       "      <td>4</td>\n",
       "      <td>0.07</td>\n",
       "      <td>5</td>\n",
       "      <td>0.36</td>\n",
       "    </tr>\n",
       "    <tr>\n",
       "      <th>1</th>\n",
       "      <td>10</td>\n",
       "      <td>10</td>\n",
       "      <td>0.09</td>\n",
       "      <td>12</td>\n",
       "      <td>0.40</td>\n",
       "    </tr>\n",
       "    <tr>\n",
       "      <th>2</th>\n",
       "      <td>20</td>\n",
       "      <td>25</td>\n",
       "      <td>0.12</td>\n",
       "      <td>22</td>\n",
       "      <td>0.43</td>\n",
       "    </tr>\n",
       "    <tr>\n",
       "      <th>3</th>\n",
       "      <td>50</td>\n",
       "      <td>56</td>\n",
       "      <td>0.14</td>\n",
       "      <td>51</td>\n",
       "      <td>0.47</td>\n",
       "    </tr>\n",
       "    <tr>\n",
       "      <th>4</th>\n",
       "      <td>100</td>\n",
       "      <td>117</td>\n",
       "      <td>0.16</td>\n",
       "      <td>98</td>\n",
       "      <td>0.50</td>\n",
       "    </tr>\n",
       "    <tr>\n",
       "      <th>5</th>\n",
       "      <td>200</td>\n",
       "      <td>213</td>\n",
       "      <td>0.17</td>\n",
       "      <td>240</td>\n",
       "      <td>0.54</td>\n",
       "    </tr>\n",
       "    <tr>\n",
       "      <th>6</th>\n",
       "      <td>500</td>\n",
       "      <td>492</td>\n",
       "      <td>0.20</td>\n",
       "      <td>527</td>\n",
       "      <td>0.58</td>\n",
       "    </tr>\n",
       "    <tr>\n",
       "      <th>7</th>\n",
       "      <td>700</td>\n",
       "      <td>698</td>\n",
       "      <td>0.21</td>\n",
       "      <td>714</td>\n",
       "      <td>0.59</td>\n",
       "    </tr>\n",
       "  </tbody>\n",
       "</table>\n",
       "</div>"
      ],
      "text/plain": [
       "   Suggested Current  SBD Current  SBD Voltage  PN Current  PN Voltage\n",
       "0                  5            4         0.07           5        0.36\n",
       "1                 10           10         0.09          12        0.40\n",
       "2                 20           25         0.12          22        0.43\n",
       "3                 50           56         0.14          51        0.47\n",
       "4                100          117         0.16          98        0.50\n",
       "5                200          213         0.17         240        0.54\n",
       "6                500          492         0.20         527        0.58\n",
       "7                700          698         0.21         714        0.59"
      ]
     },
     "execution_count": 20,
     "metadata": {},
     "output_type": "execute_result"
    }
   ],
   "source": [
    "df"
   ]
  },
  {
   "cell_type": "code",
   "execution_count": 21,
   "id": "bdac13b4",
   "metadata": {},
   "outputs": [],
   "source": [
    "df[\"log current ratio + 1 SBD\"] = np.log(1 + df[\"SBD Current\"]/Is)\n",
    "df[\"log current ratio + 1 PN\"] = np.log(1 + df[\"PN Current\"]/Is_pn)"
   ]
  },
  {
   "cell_type": "code",
   "execution_count": 22,
   "id": "0892c8b4",
   "metadata": {},
   "outputs": [
    {
     "data": {
      "text/html": [
       "<div>\n",
       "<style scoped>\n",
       "    .dataframe tbody tr th:only-of-type {\n",
       "        vertical-align: middle;\n",
       "    }\n",
       "\n",
       "    .dataframe tbody tr th {\n",
       "        vertical-align: top;\n",
       "    }\n",
       "\n",
       "    .dataframe thead th {\n",
       "        text-align: right;\n",
       "    }\n",
       "</style>\n",
       "<table border=\"1\" class=\"dataframe\">\n",
       "  <thead>\n",
       "    <tr style=\"text-align: right;\">\n",
       "      <th></th>\n",
       "      <th>Suggested Current</th>\n",
       "      <th>SBD Current</th>\n",
       "      <th>SBD Voltage</th>\n",
       "      <th>PN Current</th>\n",
       "      <th>PN Voltage</th>\n",
       "      <th>log current ratio + 1 SBD</th>\n",
       "      <th>log current ratio + 1 PN</th>\n",
       "    </tr>\n",
       "  </thead>\n",
       "  <tbody>\n",
       "    <tr>\n",
       "      <th>0</th>\n",
       "      <td>5</td>\n",
       "      <td>4</td>\n",
       "      <td>0.07</td>\n",
       "      <td>5</td>\n",
       "      <td>0.36</td>\n",
       "      <td>2.431329</td>\n",
       "      <td>7.225183</td>\n",
       "    </tr>\n",
       "    <tr>\n",
       "      <th>1</th>\n",
       "      <td>10</td>\n",
       "      <td>10</td>\n",
       "      <td>0.09</td>\n",
       "      <td>12</td>\n",
       "      <td>0.40</td>\n",
       "      <td>3.293425</td>\n",
       "      <td>8.100227</td>\n",
       "    </tr>\n",
       "    <tr>\n",
       "      <th>2</th>\n",
       "      <td>20</td>\n",
       "      <td>25</td>\n",
       "      <td>0.12</td>\n",
       "      <td>22</td>\n",
       "      <td>0.43</td>\n",
       "      <td>4.187188</td>\n",
       "      <td>8.706225</td>\n",
       "    </tr>\n",
       "    <tr>\n",
       "      <th>3</th>\n",
       "      <td>50</td>\n",
       "      <td>56</td>\n",
       "      <td>0.14</td>\n",
       "      <td>51</td>\n",
       "      <td>0.47</td>\n",
       "      <td>4.985220</td>\n",
       "      <td>9.546914</td>\n",
       "    </tr>\n",
       "    <tr>\n",
       "      <th>4</th>\n",
       "      <td>100</td>\n",
       "      <td>117</td>\n",
       "      <td>0.16</td>\n",
       "      <td>98</td>\n",
       "      <td>0.50</td>\n",
       "      <td>5.718471</td>\n",
       "      <td>10.200022</td>\n",
       "    </tr>\n",
       "    <tr>\n",
       "      <th>5</th>\n",
       "      <td>200</td>\n",
       "      <td>213</td>\n",
       "      <td>0.17</td>\n",
       "      <td>240</td>\n",
       "      <td>0.54</td>\n",
       "      <td>6.316108</td>\n",
       "      <td>11.095671</td>\n",
       "    </tr>\n",
       "    <tr>\n",
       "      <th>6</th>\n",
       "      <td>500</td>\n",
       "      <td>492</td>\n",
       "      <td>0.20</td>\n",
       "      <td>527</td>\n",
       "      <td>0.58</td>\n",
       "      <td>7.152269</td>\n",
       "      <td>11.882225</td>\n",
       "    </tr>\n",
       "    <tr>\n",
       "      <th>7</th>\n",
       "      <td>700</td>\n",
       "      <td>698</td>\n",
       "      <td>0.21</td>\n",
       "      <td>714</td>\n",
       "      <td>0.59</td>\n",
       "      <td>7.501778</td>\n",
       "      <td>12.185905</td>\n",
       "    </tr>\n",
       "  </tbody>\n",
       "</table>\n",
       "</div>"
      ],
      "text/plain": [
       "   Suggested Current  SBD Current  SBD Voltage  PN Current  PN Voltage  \\\n",
       "0                  5            4         0.07           5        0.36   \n",
       "1                 10           10         0.09          12        0.40   \n",
       "2                 20           25         0.12          22        0.43   \n",
       "3                 50           56         0.14          51        0.47   \n",
       "4                100          117         0.16          98        0.50   \n",
       "5                200          213         0.17         240        0.54   \n",
       "6                500          492         0.20         527        0.58   \n",
       "7                700          698         0.21         714        0.59   \n",
       "\n",
       "   log current ratio + 1 SBD  log current ratio + 1 PN  \n",
       "0                   2.431329                  7.225183  \n",
       "1                   3.293425                  8.100227  \n",
       "2                   4.187188                  8.706225  \n",
       "3                   4.985220                  9.546914  \n",
       "4                   5.718471                 10.200022  \n",
       "5                   6.316108                 11.095671  \n",
       "6                   7.152269                 11.882225  \n",
       "7                   7.501778                 12.185905  "
      ]
     },
     "execution_count": 22,
     "metadata": {},
     "output_type": "execute_result"
    }
   ],
   "source": [
    "df"
   ]
  },
  {
   "cell_type": "code",
   "execution_count": 23,
   "id": "69e7abb1",
   "metadata": {},
   "outputs": [
    {
     "data": {
      "image/png": "[encoded data removed]",
      "text/plain": [
       "<Figure size 432x288 with 1 Axes>"
      ]
     },
     "metadata": {
      "needs_background": "light"
     },
     "output_type": "display_data"
    },
    {
     "data": {
      "text/plain": [
       "(0.02746401004926546, 0.002235936562888084)"
      ]
     },
     "execution_count": 23,
     "metadata": {},
     "output_type": "execute_result"
    }
   ],
   "source": [
    "log_current_ratio = df[\"log current ratio + 1 SBD\"].to_numpy()\n",
    "v_forward = df[\"SBD Voltage\"].to_numpy()\n",
    "m_sbd, c_sbd = ultimate_plot(log_current_ratio, v_forward, r\"$ln[(I_F/I_S)+1]$\", r\"$V_{F} \\ \\ [V]$\", \"Weak Forward Bias SBD\")\n",
    "m_sbd, c_sbd"
   ]
  },
  {
   "cell_type": "code",
   "execution_count": 24,
   "id": "254fcae5",
   "metadata": {},
   "outputs": [
    {
     "data": {
      "image/png": "[encoded data removed]",
      "text/plain": [
       "<Figure size 432x288 with 1 Axes>"
      ]
     },
     "metadata": {
      "needs_background": "light"
     },
     "output_type": "display_data"
    },
    {
     "data": {
      "text/plain": [
       "(0.04673068652650123, 0.022621084783053275)"
      ]
     },
     "execution_count": 24,
     "metadata": {},
     "output_type": "execute_result"
    }
   ],
   "source": [
    "log_current_ratio = df[\"log current ratio + 1 PN\"].to_numpy()\n",
    "v_forward = df[\"PN Voltage\"].to_numpy()\n",
    "m_pn, c_pn = ultimate_plot(log_current_ratio, v_forward, r\"$ln[(I_F/I_S)+1]$\", r\"$V_{F} \\ \\ [V]$\", \"Weak Forward Bias PN\")\n",
    "m_pn, c_pn"
   ]
  },
  {
   "cell_type": "code",
   "execution_count": 25,
   "id": "63d79901",
   "metadata": {},
   "outputs": [],
   "source": [
    "x_values = df[\"Suggested Current\"].to_numpy()\n",
    "y_pn = m_pn * x_values + c_pn\n",
    "y_sbd = m_sbd * x_values + c_sbd"
   ]
  },
  {
   "cell_type": "code",
   "execution_count": 26,
   "id": "33e34c5e",
   "metadata": {},
   "outputs": [
    {
     "data": {
      "image/png": "[encoded data removed]",
      "text/plain": [
       "<Figure size 432x288 with 1 Axes>"
      ]
     },
     "metadata": {
      "needs_background": "light"
     },
     "output_type": "display_data"
    }
   ],
   "source": [
    "plt.plot(x_values, y_pn, label='PN Line')\n",
    "plt.plot(x_values, y_sbd, label='SBD Line')\n",
    "plt.xlabel(r\"$ln[(I_F/I_S)+1]$\", fontsize=14)\n",
    "plt.ylabel(r\"$V_{F} \\ \\ [V]$\", fontsize=14)\n",
    "plt.title(\"Weak Forward Bias Line of Best Fit\", fontsize=16)\n",
    "plt.legend()\n",
    "plt.savefig(f\"./Weak Forward Bias Line of Best Fit.png\")\n",
    "plt.show()"
   ]
  },
  {
   "cell_type": "markdown",
   "id": "e5b7bca6",
   "metadata": {},
   "source": [
    "## Experiment 2C"
   ]
  },
  {
   "cell_type": "code",
   "execution_count": 27,
   "id": "72710c85",
   "metadata": {},
   "outputs": [],
   "source": [
    "df = pd.read_csv(\"./experiment_2c_data.txt\", sep=\"|\", header=None)\n",
    "df = df.rename(columns={0: \"Suggested Current\", 1: \"SBD Current\", 2: \"SBD Voltage\", 3: \"PN Current\", 4: \"PN Voltage\"})"
   ]
  },
  {
   "cell_type": "code",
   "execution_count": 28,
   "id": "31dd5f3a",
   "metadata": {},
   "outputs": [
    {
     "data": {
      "text/html": [
       "<div>\n",
       "<style scoped>\n",
       "    .dataframe tbody tr th:only-of-type {\n",
       "        vertical-align: middle;\n",
       "    }\n",
       "\n",
       "    .dataframe tbody tr th {\n",
       "        vertical-align: top;\n",
       "    }\n",
       "\n",
       "    .dataframe thead th {\n",
       "        text-align: right;\n",
       "    }\n",
       "</style>\n",
       "<table border=\"1\" class=\"dataframe\">\n",
       "  <thead>\n",
       "    <tr style=\"text-align: right;\">\n",
       "      <th></th>\n",
       "      <th>Suggested Current</th>\n",
       "      <th>SBD Current</th>\n",
       "      <th>SBD Voltage</th>\n",
       "      <th>PN Current</th>\n",
       "      <th>PN Voltage</th>\n",
       "    </tr>\n",
       "  </thead>\n",
       "  <tbody>\n",
       "    <tr>\n",
       "      <th>0</th>\n",
       "      <td>10</td>\n",
       "      <td>12.4</td>\n",
       "      <td>0.31</td>\n",
       "      <td>10.1</td>\n",
       "      <td>0.74</td>\n",
       "    </tr>\n",
       "    <tr>\n",
       "      <th>1</th>\n",
       "      <td>25</td>\n",
       "      <td>29.1</td>\n",
       "      <td>0.36</td>\n",
       "      <td>26.2</td>\n",
       "      <td>0.80</td>\n",
       "    </tr>\n",
       "    <tr>\n",
       "      <th>2</th>\n",
       "      <td>50</td>\n",
       "      <td>49.8</td>\n",
       "      <td>0.42</td>\n",
       "      <td>47.1</td>\n",
       "      <td>0.84</td>\n",
       "    </tr>\n",
       "    <tr>\n",
       "      <th>3</th>\n",
       "      <td>75</td>\n",
       "      <td>73.1</td>\n",
       "      <td>0.48</td>\n",
       "      <td>72.8</td>\n",
       "      <td>0.88</td>\n",
       "    </tr>\n",
       "    <tr>\n",
       "      <th>4</th>\n",
       "      <td>100</td>\n",
       "      <td>93.0</td>\n",
       "      <td>0.54</td>\n",
       "      <td>105.4</td>\n",
       "      <td>0.90</td>\n",
       "    </tr>\n",
       "    <tr>\n",
       "      <th>5</th>\n",
       "      <td>200</td>\n",
       "      <td>193.8</td>\n",
       "      <td>0.69</td>\n",
       "      <td>192.8</td>\n",
       "      <td>0.95</td>\n",
       "    </tr>\n",
       "  </tbody>\n",
       "</table>\n",
       "</div>"
      ],
      "text/plain": [
       "   Suggested Current  SBD Current  SBD Voltage  PN Current  PN Voltage\n",
       "0                 10         12.4         0.31        10.1        0.74\n",
       "1                 25         29.1         0.36        26.2        0.80\n",
       "2                 50         49.8         0.42        47.1        0.84\n",
       "3                 75         73.1         0.48        72.8        0.88\n",
       "4                100         93.0         0.54       105.4        0.90\n",
       "5                200        193.8         0.69       192.8        0.95"
      ]
     },
     "execution_count": 28,
     "metadata": {},
     "output_type": "execute_result"
    }
   ],
   "source": [
    "df"
   ]
  },
  {
   "cell_type": "code",
   "execution_count": 29,
   "id": "69dbd91b",
   "metadata": {},
   "outputs": [],
   "source": [
    "v_forward = df[\"SBD Voltage\"].to_numpy()\n",
    "I_forward = df[\"SBD Current\"].to_numpy()"
   ]
  },
  {
   "cell_type": "code",
   "execution_count": 30,
   "id": "46ad77e9",
   "metadata": {},
   "outputs": [
    {
     "data": {
      "image/png": "[encoded data removed]",
      "text/plain": [
       "<Figure size 432x288 with 1 Axes>"
      ]
     },
     "metadata": {
      "needs_background": "light"
     },
     "output_type": "display_data"
    },
    {
     "data": {
      "text/plain": [
       "(467.2772630078407, -142.86272273699242)"
      ]
     },
     "execution_count": 30,
     "metadata": {},
     "output_type": "execute_result"
    }
   ],
   "source": [
    "ultimate_plot(v_forward, I_forward, r\"$V_{F} \\ \\ [V]$\", r\"$I_{F} \\ \\ [mA]$\", \"Strong Forward Bias SBD\")"
   ]
  },
  {
   "cell_type": "code",
   "execution_count": 31,
   "id": "614a5f50",
   "metadata": {},
   "outputs": [],
   "source": [
    "v_forward_pn = df[\"PN Voltage\"].to_numpy()\n",
    "I_forward_pn = df[\"PN Current\"].to_numpy()"
   ]
  },
  {
   "cell_type": "code",
   "execution_count": 32,
   "id": "1a51543c",
   "metadata": {},
   "outputs": [
    {
     "data": {
      "image/png": "[encoded data removed]",
      "text/plain": [
       "<Figure size 432x288 with 1 Axes>"
      ]
     },
     "metadata": {
      "needs_background": "light"
     },
     "output_type": "display_data"
    },
    {
     "data": {
      "text/plain": [
       "(822.0059347181, -624.3417210682481)"
      ]
     },
     "execution_count": 32,
     "metadata": {},
     "output_type": "execute_result"
    }
   ],
   "source": [
    "ultimate_plot(v_forward_pn, I_forward_pn, r\"$V_{F} \\ \\ [V]$\", r\"$I_{F} \\ \\ [mA]$\", \"Strong Forward Bias PN\")"
   ]
  },
  {
   "cell_type": "code",
   "execution_count": 33,
   "id": "d1bd6e8f",
   "metadata": {},
   "outputs": [
    {
     "data": {
      "image/png": "[encoded data removed]",
      "text/plain": [
       "<Figure size 432x288 with 1 Axes>"
      ]
     },
     "metadata": {
      "needs_background": "light"
     },
     "output_type": "display_data"
    },
    {
     "data": {
      "text/plain": [
       "(1720.7692307692253, -1442.2333333333274)"
      ]
     },
     "execution_count": 33,
     "metadata": {},
     "output_type": "execute_result"
    }
   ],
   "source": [
    "v_forward_pn = df[\"PN Voltage\"].to_numpy()[-3:]\n",
    "I_forward_pn = df[\"PN Current\"].to_numpy()[-3:]\n",
    "ultimate_plot(v_forward_pn, I_forward_pn, r\"$V_{F} \\ \\ [V]$\", r\"$I_{F} \\ \\ [mA]$\", \"Strong Forward Bias PN\")"
   ]
  },
  {
   "cell_type": "code",
   "execution_count": 34,
   "id": "49ac4ff8",
   "metadata": {},
   "outputs": [],
   "source": [
    "v_forward = df[\"SBD Voltage\"].to_numpy()\n",
    "I_forward = df[\"SBD Current\"].to_numpy()"
   ]
  },
  {
   "cell_type": "code",
   "execution_count": 35,
   "id": "d9f37677",
   "metadata": {},
   "outputs": [],
   "source": [
    "y = np.log(I_forward/(Is*10**-3))\n",
    "m, c = best_fit(v_forward, y)\n",
    "y_bf = v_forward * m + c"
   ]
  },
  {
   "cell_type": "code",
   "execution_count": 36,
   "id": "10ecb0e3",
   "metadata": {},
   "outputs": [
    {
     "data": {
      "image/png": "[encoded data removed]",
      "text/plain": [
       "<Figure size 432x288 with 1 Axes>"
      ]
     },
     "metadata": {
      "needs_background": "light"
     },
     "output_type": "display_data"
    },
    {
     "data": {
      "text/plain": [
       "(6.730375111089368, 8.701204478963266)"
      ]
     },
     "execution_count": 36,
     "metadata": {},
     "output_type": "execute_result"
    }
   ],
   "source": [
    "plt.plot(v_forward, y, \"o\")\n",
    "plt.plot(v_forward, y_bf)\n",
    "plt.show()\n",
    "m, c"
   ]
  },
  {
   "cell_type": "code",
   "execution_count": null,
   "id": "c089de75",
   "metadata": {},
   "outputs": [],
   "source": []
  },
  {
   "cell_type": "code",
   "execution_count": null,
   "id": "cab16b5b",
   "metadata": {},
   "outputs": [],
   "source": []
  }
 ],
 "metadata": {
  "kernelspec": {
   "display_name": "Python 3 (ipykernel)",
   "language": "python",
   "name": "python3"
  },
  "language_info": {
   "codemirror_mode": {
    "name": "ipython",
    "version": 3
   },
   "file_extension": ".py",
   "mimetype": "text/x-python",
   "name": "python",
   "nbconvert_exporter": "python",
   "pygments_lexer": "ipython3",
   "version": "3.9.12"
  }
 },
 "nbformat": 4,
 "nbformat_minor": 5
}
